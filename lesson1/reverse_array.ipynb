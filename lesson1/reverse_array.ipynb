{
  "nbformat": 4,
  "nbformat_minor": 0,
  "metadata": {
    "colab": {
      "provenance": [],
      "authorship_tag": "ABX9TyO7XVsLooG3erYyWKXOxOX4",
      "include_colab_link": true
    },
    "kernelspec": {
      "name": "python3",
      "display_name": "Python 3"
    },
    "language_info": {
      "name": "python"
    }
  },
  "cells": [
    {
      "cell_type": "markdown",
      "metadata": {
        "id": "view-in-github",
        "colab_type": "text"
      },
      "source": [
        "<a href=\"https://colab.research.google.com/github/InowaR/tasks/blob/main/reverse_array.ipynb\" target=\"_parent\"><img src=\"https://colab.research.google.com/assets/colab-badge.svg\" alt=\"Open In Colab\"/></a>"
      ]
    },
    {
      "cell_type": "code",
      "execution_count": 13,
      "metadata": {
        "colab": {
          "base_uri": "https://localhost:8080/"
        },
        "id": "K6th2c-UIpZD",
        "outputId": "1ff9ad79-dddf-4996-b47f-8f5b8556894a"
      },
      "outputs": [
        {
          "output_type": "stream",
          "name": "stdout",
          "text": [
            "[7, 6, 5, 4, 3, 2, 1]\n"
          ]
        }
      ],
      "source": [
        "a = [1,2,3,4,5,6,7]\n",
        "length = len(a)\n",
        "i = 0\n",
        "b = []\n",
        "while i < length:\n",
        "  b.append(a[len(a) - 1])\n",
        "  del a[len(a) - 1]\n",
        "  i += 1\n",
        "print(b)"
      ]
    }
  ]
}
