{
  "nbformat": 4,
  "nbformat_minor": 0,
  "metadata": {
    "colab": {
      "provenance": [],
      "authorship_tag": "ABX9TyN9WDjvLEu62CZhsg74Eu8i",
      "include_colab_link": true
    },
    "kernelspec": {
      "name": "python3",
      "display_name": "Python 3"
    },
    "language_info": {
      "name": "python"
    }
  },
  "cells": [
    {
      "cell_type": "markdown",
      "metadata": {
        "id": "view-in-github",
        "colab_type": "text"
      },
      "source": [
        "<a href=\"https://colab.research.google.com/github/InowaR/tasks/blob/main/sum_elements_between_max_min.ipynb\" target=\"_parent\"><img src=\"https://colab.research.google.com/assets/colab-badge.svg\" alt=\"Open In Colab\"/></a>"
      ]
    },
    {
      "cell_type": "code",
      "execution_count": 86,
      "metadata": {
        "colab": {
          "base_uri": "https://localhost:8080/"
        },
        "id": "K6th2c-UIpZD",
        "outputId": "01fe184d-bb80-4a6f-9b45-2a0f40568343"
      },
      "outputs": [
        {
          "output_type": "execute_result",
          "data": {
            "text/plain": [
              "6"
            ]
          },
          "metadata": {},
          "execution_count": 86
        }
      ],
      "source": [
        "a = [3,10,2,2,2,1,3]\n",
        "\n",
        "def find_max():\n",
        "  i = 0\n",
        "  max = 0\n",
        "  while i < len(a):\n",
        "    number = a[i]\n",
        "    i += 1\n",
        "    if number > max:\n",
        "      max = number\n",
        "  return max\n",
        "maximum = find_max()\n",
        "\n",
        "def find_min():\n",
        "  i = 0\n",
        "  min = maximum\n",
        "  while i < len(a):\n",
        "    number = a[i]\n",
        "    i += 1\n",
        "    if number < min:\n",
        "      min = number\n",
        "  return min\n",
        "minimum = find_min()\n",
        "\n",
        "def index_max():\n",
        "  count = 0\n",
        "  while count < len(a):\n",
        "    if a[count] == maximum:\n",
        "      break\n",
        "    count += 1\n",
        "  return count\n",
        "\n",
        "def index_min():\n",
        "  count = 0\n",
        "  while count < len(a):\n",
        "    if a[count] == minimum:\n",
        "      break\n",
        "    count += 1\n",
        "  return count\n",
        "\n",
        "index_max = index_max()\n",
        "index_min = index_min()\n",
        "\n",
        "def first():\n",
        "  i = index_min + 1\n",
        "  b = []\n",
        "  while i < index_max:\n",
        "    b.append(a[i])\n",
        "    i +=1\n",
        "  return b\n",
        "first = first()\n",
        "\n",
        "def second():\n",
        "  i = index_max + 1\n",
        "  b = []\n",
        "  while i < index_min:\n",
        "    b.append(a[i])\n",
        "    i += 1\n",
        "  return b\n",
        "second = second()\n",
        "\n",
        "def new():\n",
        "  new = first + second\n",
        "  count = 0\n",
        "  sum = 0\n",
        "  while count < len(new):\n",
        "    sum += new[count]\n",
        "    count += 1\n",
        "  return sum\n",
        "new()"
      ]
    }
  ]
}