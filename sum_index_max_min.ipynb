{
  "nbformat": 4,
  "nbformat_minor": 0,
  "metadata": {
    "colab": {
      "provenance": [],
      "authorship_tag": "ABX9TyOr10n+UZW03s6zFeg4dUKS",
      "include_colab_link": true
    },
    "kernelspec": {
      "name": "python3",
      "display_name": "Python 3"
    },
    "language_info": {
      "name": "python"
    }
  },
  "cells": [
    {
      "cell_type": "markdown",
      "metadata": {
        "id": "view-in-github",
        "colab_type": "text"
      },
      "source": [
        "<a href=\"https://colab.research.google.com/github/InowaR/tasks/blob/main/sum_index_max_min.ipynb\" target=\"_parent\"><img src=\"https://colab.research.google.com/assets/colab-badge.svg\" alt=\"Open In Colab\"/></a>"
      ]
    },
    {
      "cell_type": "code",
      "execution_count": 121,
      "metadata": {
        "colab": {
          "base_uri": "https://localhost:8080/"
        },
        "id": "14n3HbAbe12z",
        "outputId": "ff81cd74-a9d4-496b-d394-fd0af39c4220"
      },
      "outputs": [
        {
          "output_type": "stream",
          "name": "stdout",
          "text": [
            "14\n",
            "4\n",
            "7 5\n"
          ]
        }
      ],
      "source": [
        "a = [9,6,11,7,12,4,13,14]\n",
        "\n",
        "def find_max():\n",
        "  i = 0\n",
        "  max = 0\n",
        "  while i < len(a):\n",
        "    number = a[i]\n",
        "    i += 1\n",
        "    if number > max:\n",
        "      max = number\n",
        "  return max\n",
        "maximum = find_max()\n",
        "print(maximum)\n",
        "\n",
        "def find_min():\n",
        "  i = 0\n",
        "  min = find_max()\n",
        "  while i < len(a):\n",
        "    number = a[i]\n",
        "    i += 1\n",
        "    if number < min:\n",
        "      min = number\n",
        "  return min\n",
        "minimum = find_min()\n",
        "print(minimum)\n",
        "\n",
        "max_index = a.index(maximum)\n",
        "min_index = a.index(minimum)\n",
        "print(max_index, min_index)"
      ]
    }
  ]
}