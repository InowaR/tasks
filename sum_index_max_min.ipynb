{
  "nbformat": 4,
  "nbformat_minor": 0,
  "metadata": {
    "colab": {
      "provenance": [],
      "authorship_tag": "ABX9TyObC0WLEuT3I9vKbNXchuzB",
      "include_colab_link": true
    },
    "kernelspec": {
      "name": "python3",
      "display_name": "Python 3"
    },
    "language_info": {
      "name": "python"
    }
  },
  "cells": [
    {
      "cell_type": "markdown",
      "metadata": {
        "id": "view-in-github",
        "colab_type": "text"
      },
      "source": [
        "<a href=\"https://colab.research.google.com/github/InowaR/tasks/blob/main/sum_index_max_min.ipynb\" target=\"_parent\"><img src=\"https://colab.research.google.com/assets/colab-badge.svg\" alt=\"Open In Colab\"/></a>"
      ]
    },
    {
      "cell_type": "code",
      "execution_count": 12,
      "metadata": {
        "colab": {
          "base_uri": "https://localhost:8080/"
        },
        "id": "14n3HbAbe12z",
        "outputId": "0f107b07-088c-4e98-8934-a23168f7e008"
      },
      "outputs": [
        {
          "output_type": "stream",
          "name": "stdout",
          "text": [
            "5\n",
            "4\n"
          ]
        }
      ],
      "source": [
        "a = [9,6,11,7,2,14,13,4]\n",
        "\n",
        "def find_max():\n",
        "  i = 0\n",
        "  max = 0\n",
        "  while i < len(a):\n",
        "    number = a[i]\n",
        "    i += 1\n",
        "    if number > max:\n",
        "      max = number\n",
        "  return max\n",
        "maximum = find_max()\n",
        "\n",
        "def find_min():\n",
        "  i = 0\n",
        "  min = find_max()\n",
        "  while i < len(a):\n",
        "    number = a[i]\n",
        "    i += 1\n",
        "    if number < min:\n",
        "      min = number\n",
        "  return min\n",
        "minimum = find_min()\n",
        "\n",
        "def index_max():\n",
        "  count = 0\n",
        "  while count < len(a):\n",
        "    if a[count] == maximum:\n",
        "      break\n",
        "    count += 1\n",
        "  return count\n",
        "\n",
        "def index_min():\n",
        "  count = 0\n",
        "  while count < len(a):\n",
        "    if a[count] == minimum:\n",
        "      break\n",
        "    count += 1\n",
        "  return count\n",
        "print(index_max())\n",
        "print(index_min())"
      ]
    }
  ]
}